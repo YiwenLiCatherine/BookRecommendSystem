{
  "cells": [
    {
      "cell_type": "code",
      "source": [
        "from google.colab import drive\n",
        "drive.mount('/content/drive')"
      ],
      "metadata": {
        "colab": {
          "base_uri": "https://localhost:8080/"
        },
        "id": "f77K7U72Z6IB",
        "outputId": "c70e57dc-b7ee-49da-9c45-721aeaad7f87"
      },
      "id": "f77K7U72Z6IB",
      "execution_count": null,
      "outputs": [
        {
          "output_type": "stream",
          "name": "stdout",
          "text": [
            "Drive already mounted at /content/drive; to attempt to forcibly remount, call drive.mount(\"/content/drive\", force_remount=True).\n"
          ]
        }
      ]
    },
    {
      "cell_type": "code",
      "execution_count": null,
      "id": "forward-distribution",
      "metadata": {
        "_cell_guid": "b1076dfc-b9ad-4769-8c92-a6c4dae69d19",
        "_uuid": "8f2839f25d086af736a60e9eeb907d3b93b6e0e5",
        "execution": {
          "iopub.execute_input": "2021-08-31T13:29:28.387519Z",
          "iopub.status.busy": "2021-08-31T13:29:28.386393Z",
          "iopub.status.idle": "2021-08-31T13:29:29.302004Z",
          "shell.execute_reply": "2021-08-31T13:29:29.301082Z"
        },
        "papermill": {
          "duration": 0.972777,
          "end_time": "2021-08-31T13:29:29.302185",
          "exception": false,
          "start_time": "2021-08-31T13:29:28.329408",
          "status": "completed"
        },
        "tags": [],
        "id": "forward-distribution"
      },
      "outputs": [],
      "source": [
        "import numpy as np \n",
        "import pandas as pd \n",
        "\n",
        "from sklearn.feature_extraction.text import TfidfVectorizer, CountVectorizer\n",
        "from sklearn.metrics.pairwise import linear_kernel, cosine_similarity\n",
        "\n",
        "from random import randrange"
      ]
    },
    {
      "cell_type": "markdown",
      "source": [
        "# Preprocess and Feature Engineering"
      ],
      "metadata": {
        "id": "29wJ1g70g8Uj"
      },
      "id": "29wJ1g70g8Uj"
    },
    {
      "cell_type": "code",
      "source": [
        "import string\n",
        "from string import digits\n",
        "from sklearn.feature_extraction.text import ENGLISH_STOP_WORDS as stopwords\n",
        "import re\n",
        "from nltk.stem.porter import PorterStemmer\n",
        "\n",
        "def clean_name(txt):\n",
        "\n",
        "    txt = str(txt)\n",
        "    # lowercase\n",
        "    txt = txt.lower()\n",
        "    # remove digits\n",
        "    txt = txt.translate(str.maketrans('', '', digits))\n",
        "    # HTML tags\n",
        "    txt = re.sub(r'<.*?>', '', txt)\n",
        "    # replace \"/\" with space\n",
        "    txt = re.sub(\"/\", \" \", txt)\n",
        "    # remove quotation marks\n",
        "    txt = re.sub(\"[\\\"\\']\", \"\", txt)\n",
        "    # remove punctuation\n",
        "    txt = txt.translate(str.maketrans('', '', string.punctuation))\n",
        "    # remove stopwords\n",
        "    txt = ' '.join([word for word in txt.split(' ') if word not in stopwords])\n",
        "    # remove duplicate whitespaces\n",
        "    txt = re.sub(r'\\s+', ' ', txt)\n",
        "    return txt\n",
        "\n",
        "def clean_tag(txt):\n",
        "\n",
        "    txt = str(txt)\n",
        "    # lowercase\n",
        "    txt = txt.lower()\n",
        "    # replace hyphens with space\n",
        "    txt = re.sub(\"-\", \" \", txt)\n",
        "    # HTML tags\n",
        "    txt = re.sub(r'<.*?>', '', txt)\n",
        "    # replace \"/\" with space\n",
        "    txt = re.sub(\"/\", \" \", txt)\n",
        "    # remove quotation marks\n",
        "    txt = re.sub(\"[\\\"\\']\", \"\", txt)\n",
        "    # remove punctuation\n",
        "    txt = txt.translate(str.maketrans('', '', string.punctuation))\n",
        "    # remove stopwords\n",
        "    txt = ' '.join([word for word in txt.split(' ') if word not in stopwords])\n",
        "    # stemming\n",
        "    stemmer = PorterStemmer()\n",
        "    txt = ' '.join([stemmer.stem(word) for word in txt.split()])\n",
        "    # remove duplicate whitespaces\n",
        "    txt = re.sub(r'\\s+', ' ', txt)\n",
        "    return txt"
      ],
      "metadata": {
        "id": "ELlsjvaEYH9q"
      },
      "id": "ELlsjvaEYH9q",
      "execution_count": null,
      "outputs": []
    },
    {
      "cell_type": "code",
      "execution_count": null,
      "id": "fifth-reviewer",
      "metadata": {
        "execution": {
          "iopub.execute_input": "2021-08-31T13:29:35.377215Z",
          "iopub.status.busy": "2021-08-31T13:29:35.376527Z",
          "iopub.status.idle": "2021-08-31T13:29:36.428581Z",
          "shell.execute_reply": "2021-08-31T13:29:36.429019Z"
        },
        "papermill": {
          "duration": 1.112068,
          "end_time": "2021-08-31T13:29:36.429197",
          "exception": false,
          "start_time": "2021-08-31T13:29:35.317129",
          "status": "completed"
        },
        "tags": [],
        "colab": {
          "base_uri": "https://localhost:8080/"
        },
        "id": "fifth-reviewer",
        "outputId": "d435e311-32f7-46b1-98ee-0728eb9f39ad"
      },
      "outputs": [
        {
          "output_type": "stream",
          "name": "stderr",
          "text": [
            "/usr/local/lib/python3.7/dist-packages/IPython/core/interactiveshell.py:2882: FutureWarning: The error_bad_lines argument has been deprecated and will be removed in a future version.\n",
            "\n",
            "\n",
            "  exec(code_obj, self.user_global_ns, self.user_ns)\n"
          ]
        }
      ],
      "source": [
        "folder = \"/content/drive/MyDrive/COMP9900 Project/Machine Learning/Dataset/Books/\"\n",
        "\n",
        "# load datasets\n",
        "books = pd.read_csv(folder + \"books_cleaned.csv\", sep=\",\", error_bad_lines=False, engine='python')\n",
        "tags = pd.read_csv(folder + \"tags.csv\", sep=\",\", error_bad_lines=False, engine='python')\n",
        "book_tags = pd.read_csv(folder + \"book_tags.csv\", sep=\",\", error_bad_lines=False, engine='python')\n",
        "# rename the column name in book tags dataset to make it consistent to the other datasets\n",
        "book_tags = book_tags.rename(columns={\"goodreads_book_id\": \"book_id\"})\n",
        "\n",
        "# take the important features from the books dataset\n",
        "df_train = books[['book_id','authors','original_publication_year','language_code', 'original_title']] # kept original title for evaluation purposes\n",
        "\n",
        "# join the book tags to the training dataframe\n",
        "df_train = df_train.join(book_tags.set_index('book_id'), on='book_id')\n",
        "df_train = df_train.join(tags.set_index('tag_id'), on='tag_id')\n",
        "\n",
        "# preprocess the text features before applying NLP\n",
        "df_train['cleaned_title'] = df_train['original_title'].apply(clean_name)\n",
        "df_train['cleaned_authors'] = df_train['authors'].apply(clean_name)\n",
        "df_train['cleaned_tag'] = df_train['tag_name'].apply(clean_tag)\n",
        "\n",
        "# rollup multiple rows, concatenating the tag names\n",
        "df_train = df_train[['book_id','cleaned_title', 'cleaned_authors','original_publication_year','language_code', 'cleaned_tag', 'original_title']]\n",
        "df_train = df_train.groupby(['book_id','cleaned_title', 'cleaned_authors','original_publication_year','language_code', 'original_title'])['cleaned_tag'].apply(', '.join).reset_index()\n"
      ]
    },
    {
      "cell_type": "code",
      "source": [
        "df_train.head()"
      ],
      "metadata": {
        "colab": {
          "base_uri": "https://localhost:8080/",
          "height": 337
        },
        "id": "81x7bps2Xuie",
        "outputId": "2acb29a7-6d65-43fb-8ef8-f088e44fe87b"
      },
      "id": "81x7bps2Xuie",
      "execution_count": null,
      "outputs": [
        {
          "output_type": "execute_result",
          "data": {
            "text/html": [
              "\n",
              "  <div id=\"df-3103a5a4-c271-41cd-aa72-e81abcee072d\">\n",
              "    <div class=\"colab-df-container\">\n",
              "      <div>\n",
              "<style scoped>\n",
              "    .dataframe tbody tr th:only-of-type {\n",
              "        vertical-align: middle;\n",
              "    }\n",
              "\n",
              "    .dataframe tbody tr th {\n",
              "        vertical-align: top;\n",
              "    }\n",
              "\n",
              "    .dataframe thead th {\n",
              "        text-align: right;\n",
              "    }\n",
              "</style>\n",
              "<table border=\"1\" class=\"dataframe\">\n",
              "  <thead>\n",
              "    <tr style=\"text-align: right;\">\n",
              "      <th></th>\n",
              "      <th>book_id</th>\n",
              "      <th>cleaned_title</th>\n",
              "      <th>cleaned_authors</th>\n",
              "      <th>original_publication_year</th>\n",
              "      <th>language_code</th>\n",
              "      <th>original_title</th>\n",
              "      <th>cleaned_tag</th>\n",
              "    </tr>\n",
              "  </thead>\n",
              "  <tbody>\n",
              "    <tr>\n",
              "      <th>0</th>\n",
              "      <td>1</td>\n",
              "      <td>harry potter halfblood prince</td>\n",
              "      <td>jk rowling mary grandpré</td>\n",
              "      <td>2005.0</td>\n",
              "      <td>eng</td>\n",
              "      <td>Harry Potter and the Half-Blood Prince</td>\n",
              "      <td>read, fantasi, favorit, current read, young ad...</td>\n",
              "    </tr>\n",
              "    <tr>\n",
              "      <th>1</th>\n",
              "      <td>2</td>\n",
              "      <td>harry potter order phoenix</td>\n",
              "      <td>jk rowling mary grandpré</td>\n",
              "      <td>2003.0</td>\n",
              "      <td>eng</td>\n",
              "      <td>Harry Potter and the Order of the Phoenix</td>\n",
              "      <td>read, current read, fantasi, favorit, children...</td>\n",
              "    </tr>\n",
              "    <tr>\n",
              "      <th>2</th>\n",
              "      <td>3</td>\n",
              "      <td>harry potter philosophers stone</td>\n",
              "      <td>jk rowling mary grandpré</td>\n",
              "      <td>1997.0</td>\n",
              "      <td>eng</td>\n",
              "      <td>Harry Potter and the Philosopher's Stone</td>\n",
              "      <td>read, favorit, fantasi, current read, young ad...</td>\n",
              "    </tr>\n",
              "    <tr>\n",
              "      <th>3</th>\n",
              "      <td>5</td>\n",
              "      <td>harry potter prisoner azkaban</td>\n",
              "      <td>jk rowling mary grandpré rufus beck</td>\n",
              "      <td>1999.0</td>\n",
              "      <td>eng</td>\n",
              "      <td>Harry Potter and the Prisoner of Azkaban</td>\n",
              "      <td>favorit, fantasi, current read, young adult, r...</td>\n",
              "    </tr>\n",
              "    <tr>\n",
              "      <th>4</th>\n",
              "      <td>6</td>\n",
              "      <td>harry potter goblet</td>\n",
              "      <td>jk rowling mary grandpré</td>\n",
              "      <td>2000.0</td>\n",
              "      <td>eng</td>\n",
              "      <td>Harry Potter and the Goblet of Fire</td>\n",
              "      <td>fantasi, young adult, fiction, harri potter, o...</td>\n",
              "    </tr>\n",
              "  </tbody>\n",
              "</table>\n",
              "</div>\n",
              "      <button class=\"colab-df-convert\" onclick=\"convertToInteractive('df-3103a5a4-c271-41cd-aa72-e81abcee072d')\"\n",
              "              title=\"Convert this dataframe to an interactive table.\"\n",
              "              style=\"display:none;\">\n",
              "        \n",
              "  <svg xmlns=\"http://www.w3.org/2000/svg\" height=\"24px\"viewBox=\"0 0 24 24\"\n",
              "       width=\"24px\">\n",
              "    <path d=\"M0 0h24v24H0V0z\" fill=\"none\"/>\n",
              "    <path d=\"M18.56 5.44l.94 2.06.94-2.06 2.06-.94-2.06-.94-.94-2.06-.94 2.06-2.06.94zm-11 1L8.5 8.5l.94-2.06 2.06-.94-2.06-.94L8.5 2.5l-.94 2.06-2.06.94zm10 10l.94 2.06.94-2.06 2.06-.94-2.06-.94-.94-2.06-.94 2.06-2.06.94z\"/><path d=\"M17.41 7.96l-1.37-1.37c-.4-.4-.92-.59-1.43-.59-.52 0-1.04.2-1.43.59L10.3 9.45l-7.72 7.72c-.78.78-.78 2.05 0 2.83L4 21.41c.39.39.9.59 1.41.59.51 0 1.02-.2 1.41-.59l7.78-7.78 2.81-2.81c.8-.78.8-2.07 0-2.86zM5.41 20L4 18.59l7.72-7.72 1.47 1.35L5.41 20z\"/>\n",
              "  </svg>\n",
              "      </button>\n",
              "      \n",
              "  <style>\n",
              "    .colab-df-container {\n",
              "      display:flex;\n",
              "      flex-wrap:wrap;\n",
              "      gap: 12px;\n",
              "    }\n",
              "\n",
              "    .colab-df-convert {\n",
              "      background-color: #E8F0FE;\n",
              "      border: none;\n",
              "      border-radius: 50%;\n",
              "      cursor: pointer;\n",
              "      display: none;\n",
              "      fill: #1967D2;\n",
              "      height: 32px;\n",
              "      padding: 0 0 0 0;\n",
              "      width: 32px;\n",
              "    }\n",
              "\n",
              "    .colab-df-convert:hover {\n",
              "      background-color: #E2EBFA;\n",
              "      box-shadow: 0px 1px 2px rgba(60, 64, 67, 0.3), 0px 1px 3px 1px rgba(60, 64, 67, 0.15);\n",
              "      fill: #174EA6;\n",
              "    }\n",
              "\n",
              "    [theme=dark] .colab-df-convert {\n",
              "      background-color: #3B4455;\n",
              "      fill: #D2E3FC;\n",
              "    }\n",
              "\n",
              "    [theme=dark] .colab-df-convert:hover {\n",
              "      background-color: #434B5C;\n",
              "      box-shadow: 0px 1px 3px 1px rgba(0, 0, 0, 0.15);\n",
              "      filter: drop-shadow(0px 1px 2px rgba(0, 0, 0, 0.3));\n",
              "      fill: #FFFFFF;\n",
              "    }\n",
              "  </style>\n",
              "\n",
              "      <script>\n",
              "        const buttonEl =\n",
              "          document.querySelector('#df-3103a5a4-c271-41cd-aa72-e81abcee072d button.colab-df-convert');\n",
              "        buttonEl.style.display =\n",
              "          google.colab.kernel.accessAllowed ? 'block' : 'none';\n",
              "\n",
              "        async function convertToInteractive(key) {\n",
              "          const element = document.querySelector('#df-3103a5a4-c271-41cd-aa72-e81abcee072d');\n",
              "          const dataTable =\n",
              "            await google.colab.kernel.invokeFunction('convertToInteractive',\n",
              "                                                     [key], {});\n",
              "          if (!dataTable) return;\n",
              "\n",
              "          const docLinkHtml = 'Like what you see? Visit the ' +\n",
              "            '<a target=\"_blank\" href=https://colab.research.google.com/notebooks/data_table.ipynb>data table notebook</a>'\n",
              "            + ' to learn more about interactive tables.';\n",
              "          element.innerHTML = '';\n",
              "          dataTable['output_type'] = 'display_data';\n",
              "          await google.colab.output.renderOutput(dataTable, element);\n",
              "          const docLink = document.createElement('div');\n",
              "          docLink.innerHTML = docLinkHtml;\n",
              "          element.appendChild(docLink);\n",
              "        }\n",
              "      </script>\n",
              "    </div>\n",
              "  </div>\n",
              "  "
            ],
            "text/plain": [
              "   book_id                    cleaned_title  \\\n",
              "0        1    harry potter halfblood prince   \n",
              "1        2       harry potter order phoenix   \n",
              "2        3  harry potter philosophers stone   \n",
              "3        5    harry potter prisoner azkaban   \n",
              "4        6              harry potter goblet   \n",
              "\n",
              "                       cleaned_authors  original_publication_year  \\\n",
              "0             jk rowling mary grandpré                     2005.0   \n",
              "1             jk rowling mary grandpré                     2003.0   \n",
              "2             jk rowling mary grandpré                     1997.0   \n",
              "3  jk rowling mary grandpré rufus beck                     1999.0   \n",
              "4             jk rowling mary grandpré                     2000.0   \n",
              "\n",
              "  language_code                             original_title  \\\n",
              "0           eng     Harry Potter and the Half-Blood Prince   \n",
              "1           eng  Harry Potter and the Order of the Phoenix   \n",
              "2           eng   Harry Potter and the Philosopher's Stone   \n",
              "3           eng   Harry Potter and the Prisoner of Azkaban   \n",
              "4           eng        Harry Potter and the Goblet of Fire   \n",
              "\n",
              "                                         cleaned_tag  \n",
              "0  read, fantasi, favorit, current read, young ad...  \n",
              "1  read, current read, fantasi, favorit, children...  \n",
              "2  read, favorit, fantasi, current read, young ad...  \n",
              "3  favorit, fantasi, current read, young adult, r...  \n",
              "4  fantasi, young adult, fiction, harri potter, o...  "
            ]
          },
          "metadata": {},
          "execution_count": 6
        }
      ]
    },
    {
      "cell_type": "code",
      "source": [
        "df_train.to_csv('content_based_filtering_df.csv', index=False)"
      ],
      "metadata": {
        "id": "T6501Y1B5niz"
      },
      "id": "T6501Y1B5niz",
      "execution_count": null,
      "outputs": []
    },
    {
      "cell_type": "markdown",
      "source": [
        "# Content Based Filtering - Generate Matrices"
      ],
      "metadata": {
        "id": "QFsTvqZ-hLPD"
      },
      "id": "QFsTvqZ-hLPD"
    },
    {
      "cell_type": "code",
      "execution_count": null,
      "id": "integral-hawaii",
      "metadata": {
        "execution": {
          "iopub.execute_input": "2021-08-31T13:29:55.000880Z",
          "iopub.status.busy": "2021-08-31T13:29:55.000289Z",
          "iopub.status.idle": "2021-08-31T13:29:59.740218Z",
          "shell.execute_reply": "2021-08-31T13:29:59.740660Z"
        },
        "papermill": {
          "duration": 4.818176,
          "end_time": "2021-08-31T13:29:59.740839",
          "exception": false,
          "start_time": "2021-08-31T13:29:54.922663",
          "status": "completed"
        },
        "tags": [],
        "id": "integral-hawaii"
      },
      "outputs": [],
      "source": [
        "# combine the text features\n",
        "def concat_texts(df):\n",
        "    return ''.join(str(df['cleaned_title']) + ' | ' + str(df['cleaned_authors']) + ' | ' \n",
        "                   + str(int(df['original_publication_year'])) + ' | ' + str(df['language_code']) + ' | ' + str(df['cleaned_tag']))\n",
        "\n",
        "df_train['combined_features'] = df_train.apply(concat_texts, axis=1)\n",
        "\n",
        "# use count and tfidf vectorizers, and compare how the models perform\n",
        "count_vec = CountVectorizer().fit_transform(df_train['combined_features'])\n",
        "tfidf_vec = TfidfVectorizer().fit_transform(df_train['combined_features'])\n",
        "\n",
        "# get the similarity matrices, with combination of vectorizers (count vectorizer, TF-IDF vectorizer) and kernels (cosine, linear)\n",
        "cs_count_vec = cosine_similarity(count_vec, count_vec)\n",
        "lk_count_vec = linear_kernel(count_vec, count_vec)\n",
        "cs_tfidf_vec = cosine_similarity(tfidf_vec, tfidf_vec)\n",
        "lk_tfidf_vec = linear_kernel(tfidf_vec, tfidf_vec)\n",
        "\n",
        "# include indexing for quick query and drop duplicates\n",
        "indices = pd.Series(df_train.index, index=df_train['book_id']).drop_duplicates()"
      ]
    },
    {
      "cell_type": "code",
      "source": [
        "import pickle\n",
        "# save to pickle\n",
        "with open('cs_count_vec.pickle', 'wb') as handle:\n",
        "  pickle.dump(cs_count_vec, handle, protocol=pickle.HIGHEST_PROTOCOL)\n",
        "\n",
        "with open('lk_count_vec.pickle', 'wb') as handle:\n",
        "  pickle.dump(lk_count_vec, handle, protocol=pickle.HIGHEST_PROTOCOL)\n",
        "\n",
        "with open('cs_tfidf_vec.pickle', 'wb') as handle:\n",
        "  pickle.dump(cs_tfidf_vec, handle, protocol=pickle.HIGHEST_PROTOCOL)\n",
        "\n",
        "with open('lk_tfidf_vec.pickle', 'wb') as handle:\n",
        "  pickle.dump(lk_tfidf_vec, handle, protocol=pickle.HIGHEST_PROTOCOL)\n",
        "\n",
        "with open('book_indices.pickle', 'wb') as handle:\n",
        "  pickle.dump(indices, handle, protocol=pickle.HIGHEST_PROTOCOL)"
      ],
      "metadata": {
        "id": "Hk6sp6o65JYg"
      },
      "id": "Hk6sp6o65JYg",
      "execution_count": null,
      "outputs": []
    },
    {
      "cell_type": "markdown",
      "source": [
        "# Generate Recommendation"
      ],
      "metadata": {
        "id": "dgcEFnxq6EEr"
      },
      "id": "dgcEFnxq6EEr"
    },
    {
      "cell_type": "markdown",
      "source": [
        "Run from here"
      ],
      "metadata": {
        "id": "R_qxmQYn6IDa"
      },
      "id": "R_qxmQYn6IDa"
    },
    {
      "cell_type": "code",
      "source": [
        "import numpy as np \n",
        "import pandas as pd \n",
        "\n",
        "from random import randrange\n",
        "\n",
        "import pickle"
      ],
      "metadata": {
        "id": "tj5qku-f6HjT"
      },
      "id": "tj5qku-f6HjT",
      "execution_count": null,
      "outputs": []
    },
    {
      "cell_type": "code",
      "source": [
        "# load saved files\n",
        "\n",
        "folder = \"/content/drive/MyDrive/COMP9900 Project/Machine Learning/Model Files/\"\n",
        "\n",
        "with open(folder + 'cs_count_vec.pickle', 'rb') as handle:\n",
        "  cs_count_vec = pickle.load(handle)\n",
        "\n",
        "with open(folder + 'lk_count_vec.pickle', 'rb') as handle:\n",
        "  lk_count_vec = pickle.load(handle)\n",
        "\n",
        "with open(folder + 'cs_tfidf_vec.pickle', 'rb') as handle:\n",
        "  cs_tfidf_vec = pickle.load(handle)\n",
        "\n",
        "with open(folder + 'lk_tfidf_vec.pickle', 'rb') as handle:\n",
        "  lk_tfidf_vec = pickle.load(handle)\n",
        "\n",
        "with open(folder + 'book_indices.pickle', 'rb') as handle:\n",
        "  indices = pickle.load(handle)"
      ],
      "metadata": {
        "id": "0jnxvlCM5a3K"
      },
      "id": "0jnxvlCM5a3K",
      "execution_count": null,
      "outputs": []
    },
    {
      "cell_type": "code",
      "execution_count": null,
      "id": "joint-engineering",
      "metadata": {
        "execution": {
          "iopub.execute_input": "2021-08-31T13:30:00.050713Z",
          "iopub.status.busy": "2021-08-31T13:30:00.049556Z",
          "iopub.status.idle": "2021-08-31T13:30:00.053649Z",
          "shell.execute_reply": "2021-08-31T13:30:00.053077Z"
        },
        "papermill": {
          "duration": 0.081719,
          "end_time": "2021-08-31T13:30:00.053781",
          "exception": false,
          "start_time": "2021-08-31T13:29:59.972062",
          "status": "completed"
        },
        "tags": [],
        "id": "joint-engineering"
      },
      "outputs": [],
      "source": [
        "def get_content_based_recommendations(book_id, sim_matrix, num_recommendation = 10, variation_size = 0.2):\n",
        "    # get the index of the book that matches the book_id\n",
        "    idx = indices[book_id]\n",
        "\n",
        "    # calculate how similar the book to the other books and sort based on the similarity score\n",
        "    similarity_scores = list(enumerate(sim_matrix[idx]))\n",
        "    similarity_scores = sorted(similarity_scores, key=lambda el: el[1], reverse=True)\n",
        "\n",
        "    # get the scores of the 10 most similar books\n",
        "    recommendation_idx = []\n",
        "    num_of_variation = int(num_recommendation * variation_size)\n",
        "    if (num_recommendation > 5):\n",
        "      for i in range(1, 1 + num_recommendation - num_of_variation):\n",
        "        recommendation_idx.append(i)\n",
        "      for i in range(num_of_variation):\n",
        "        var_idx = randrange(num_of_variation * 5)\n",
        "        while ((1 + num_recommendation - num_of_variation + var_idx) in recommendation_idx):\n",
        "          var_idx = randrange(num_of_variation * 4)\n",
        "        recommendation_idx.append((1 + num_recommendation - num_of_variation + var_idx))\n",
        "\n",
        "    similarity_scores = [similarity_scores[i] for i in recommendation_idx]\n",
        "    \n",
        "    # get the book indices\n",
        "    book_idx = [i[0] for i in similarity_scores]\n",
        "\n",
        "    # return the top n most similar books + some variations\n",
        "    return df_train['original_title'].iloc[book_idx]"
      ]
    },
    {
      "cell_type": "code",
      "execution_count": null,
      "id": "juvenile-spectrum",
      "metadata": {
        "execution": {
          "iopub.execute_input": "2021-08-31T13:30:00.212200Z",
          "iopub.status.busy": "2021-08-31T13:30:00.208704Z",
          "iopub.status.idle": "2021-08-31T13:30:00.215566Z",
          "shell.execute_reply": "2021-08-31T13:30:00.215959Z"
        },
        "papermill": {
          "duration": 0.089888,
          "end_time": "2021-08-31T13:30:00.216161",
          "exception": false,
          "start_time": "2021-08-31T13:30:00.126273",
          "status": "completed"
        },
        "tags": [],
        "id": "juvenile-spectrum",
        "colab": {
          "base_uri": "https://localhost:8080/"
        },
        "outputId": "e3cc335b-332e-49a7-b198-752a72c30f10"
      },
      "outputs": [
        {
          "output_type": "stream",
          "name": "stdout",
          "text": [
            "[1, 2, 3, 4, 5, 6, 7, 8, 16, 17]\n"
          ]
        },
        {
          "output_type": "execute_result",
          "data": {
            "text/plain": [
              "1076      Harry Potter and the Chamber of Secrets\n",
              "3        Harry Potter and the Prisoner of Azkaban\n",
              "4             Harry Potter and the Goblet of Fire\n",
              "0          Harry Potter and the Half-Blood Prince\n",
              "3307         Harry Potter and the Deathly Hallows\n",
              "1       Harry Potter and the Order of the Phoenix\n",
              "464                          Howl's Moving Castle\n",
              "5299                 The Tales of Beedle the Bard\n",
              "4176       Gregor and the Curse of the Warmbloods\n",
              "2014      Fantastic Beasts and Where to Find Them\n",
              "Name: original_title, dtype: object"
            ]
          },
          "metadata": {},
          "execution_count": 8
        }
      ],
      "source": [
        "# using count vectorizer + cosine similarity\n",
        "get_content_based_recommendations(3, cs_count_vec, 10, 0.2)"
      ]
    },
    {
      "cell_type": "code",
      "source": [
        "# using count vectorizer + linear kernel\n",
        "get_content_based_recommendations(3, lk_count_vec, 10, 0.2)"
      ],
      "metadata": {
        "colab": {
          "base_uri": "https://localhost:8080/"
        },
        "id": "hRorQXUhBsf2",
        "outputId": "21084d29-8961-4d87-8d62-bbac721c53da"
      },
      "id": "hRorQXUhBsf2",
      "execution_count": null,
      "outputs": [
        {
          "output_type": "stream",
          "name": "stdout",
          "text": [
            "[1, 2, 3, 4, 5, 6, 7, 8, 10, 18]\n"
          ]
        },
        {
          "output_type": "execute_result",
          "data": {
            "text/plain": [
              "4179                                     Just for You\n",
              "4761                              Bedtime for Frances\n",
              "3804                          Just a Mess (Look-Look)\n",
              "3805                   Just Me and My Dad (Look-Look)\n",
              "3895                            A Pocket for Corduroy\n",
              "4149       Lyle, Lyle, Crocodile (Lyle the Crocodile)\n",
              "4696    The Saggy Baggy Elephant (Little Golden Book)\n",
              "4246                Yertle the Turtle (Classic Seuss)\n",
              "1188                               The Enchanted Wood\n",
              "2483                        The Five Chinese Brothers\n",
              "Name: original_title, dtype: object"
            ]
          },
          "metadata": {},
          "execution_count": 9
        }
      ]
    },
    {
      "cell_type": "code",
      "execution_count": null,
      "id": "abstract-batman",
      "metadata": {
        "execution": {
          "iopub.execute_input": "2021-08-31T13:30:00.362822Z",
          "iopub.status.busy": "2021-08-31T13:30:00.362224Z",
          "iopub.status.idle": "2021-08-31T13:30:00.377129Z",
          "shell.execute_reply": "2021-08-31T13:30:00.376640Z"
        },
        "papermill": {
          "duration": 0.088543,
          "end_time": "2021-08-31T13:30:00.377269",
          "exception": false,
          "start_time": "2021-08-31T13:30:00.288726",
          "status": "completed"
        },
        "tags": [],
        "id": "abstract-batman",
        "colab": {
          "base_uri": "https://localhost:8080/"
        },
        "outputId": "c7ceb3d7-d2fd-468c-f97b-b1d553f2636c"
      },
      "outputs": [
        {
          "output_type": "stream",
          "name": "stdout",
          "text": [
            "[1, 2, 3, 4, 5, 6, 7, 8, 18, 16]\n"
          ]
        },
        {
          "output_type": "execute_result",
          "data": {
            "text/plain": [
              "1076         Harry Potter and the Chamber of Secrets\n",
              "4                Harry Potter and the Goblet of Fire\n",
              "0             Harry Potter and the Half-Blood Prince\n",
              "3307            Harry Potter and the Deathly Hallows\n",
              "3           Harry Potter and the Prisoner of Azkaban\n",
              "1          Harry Potter and the Order of the Phoenix\n",
              "5       Harry Potter Collection (Harry Potter, #1-6)\n",
              "4736                 Complete Harry Potter Boxed Set\n",
              "2486                           The magician's nephew\n",
              "1444                               The Book of Three\n",
              "Name: original_title, dtype: object"
            ]
          },
          "metadata": {},
          "execution_count": 10
        }
      ],
      "source": [
        "# using TF-IDF Vectorizer + cosine similarity\n",
        "get_content_based_recommendations(3, cs_tfidf_vec, 10, 0.2)"
      ]
    },
    {
      "cell_type": "code",
      "source": [
        "# using TF-IDF Vectorizer + linear kernel\n",
        "get_content_based_recommendations(3, lk_tfidf_vec, 10, 0.2)"
      ],
      "metadata": {
        "colab": {
          "base_uri": "https://localhost:8080/"
        },
        "id": "ajYS7nfLBy5U",
        "outputId": "b2b59e98-c894-423e-e095-dfb7c27515fe"
      },
      "id": "ajYS7nfLBy5U",
      "execution_count": null,
      "outputs": [
        {
          "output_type": "stream",
          "name": "stdout",
          "text": [
            "[1, 2, 3, 4, 5, 6, 7, 8, 14, 11]\n"
          ]
        },
        {
          "output_type": "execute_result",
          "data": {
            "text/plain": [
              "1076              Harry Potter and the Chamber of Secrets\n",
              "4                     Harry Potter and the Goblet of Fire\n",
              "0                  Harry Potter and the Half-Blood Prince\n",
              "3307                 Harry Potter and the Deathly Hallows\n",
              "3                Harry Potter and the Prisoner of Azkaban\n",
              "1               Harry Potter and the Order of the Phoenix\n",
              "5            Harry Potter Collection (Harry Potter, #1-6)\n",
              "4736                      Complete Harry Potter Boxed Set\n",
              "4336    The Magical Worlds of Harry Potter: A Treasury...\n",
              "3120                           Quidditch Through the Ages\n",
              "Name: original_title, dtype: object"
            ]
          },
          "metadata": {},
          "execution_count": 11
        }
      ]
    }
  ],
  "metadata": {
    "kernelspec": {
      "display_name": "Python 3",
      "language": "python",
      "name": "python3"
    },
    "language_info": {
      "codemirror_mode": {
        "name": "ipython",
        "version": 3
      },
      "file_extension": ".py",
      "mimetype": "text/x-python",
      "name": "python",
      "nbconvert_exporter": "python",
      "pygments_lexer": "ipython3",
      "version": "3.7.10"
    },
    "papermill": {
      "default_parameters": {},
      "duration": 41.950295,
      "end_time": "2021-08-31T13:30:02.908017",
      "environment_variables": {},
      "exception": null,
      "input_path": "__notebook__.ipynb",
      "output_path": "__notebook__.ipynb",
      "parameters": {},
      "start_time": "2021-08-31T13:29:20.957722",
      "version": "2.3.3"
    },
    "colab": {
      "name": "COMP9900 Content based filtering.ipynb",
      "provenance": []
    }
  },
  "nbformat": 4,
  "nbformat_minor": 5
}